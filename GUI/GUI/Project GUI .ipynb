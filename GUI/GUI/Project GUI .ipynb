{
 "cells": [
  {
   "cell_type": "code",
   "execution_count": 7,
   "metadata": {},
   "outputs": [],
   "source": [
    "from tkinter import *\n",
    "from PIL import Image\n",
    "import cv2\n",
    "\n",
    "root = Tk()\n",
    "root.title(\"Fake Face Image Detection\")\n",
    "\n",
    "photo = PhotoImage(file='back.png')\n",
    "btimagecheck = PhotoImage(file='button_check.png')\n",
    "btimageopen = PhotoImage(file=\"button_open.png\")\n",
    "labeltitle = PhotoImage(file=\"label_title.png\")\n",
    "\n",
    "Image.open(\"photo.jpg\").save(\"photo.png\")     #\n",
    "#phcheck = cv2.imread(\"photo.png\")\n",
    "#phcheck = cv2.resize(phcheck,(50,50))\n",
    "phcheck = Image.open(\"photo.png\")\n",
    "phcheck = phcheck.resize((400,400)).save(\"photo.png\")\n",
    "#phcheck = phcheck.resize((50,50))\n",
    "phcheck = PhotoImage(file=\"photo.png\")\n",
    "\n",
    "\n",
    "canvas = Canvas(height='650', width='800', bg=\"skyblue\")\n",
    "background_label = Label(root, image=photo)\n",
    "background_label.place(x=0, y=0, relwidth=1, relheight=1)\n",
    "\n",
    "canvas.pack()\n",
    "\n",
    "#label1 = Label(text = \"Fake Face Image Detection\", font=\"Times 30 italic\").place(x=180,y=20)\n",
    "label1 = Label(image=labeltitle, bg=\"#fdeaab\").place(x=180,y=20)\n",
    "\n",
    "putphoto = Label(image=phcheck).place(x=200,y=100)                                                                       #\n",
    "\n",
    "btopen = Button(image=btimageopen, border=0, bg=\"#fdeaab\")\n",
    "btopen.place(x=250,y=580)\n",
    "\n",
    "btcheck = Button(image=btimagecheck, border=0, bg=\"#fdeaab\")\n",
    "btcheck.place(x=400,y=578)\n",
    "\n",
    "#canvas.create_image(0,0, image=photo)\n",
    "\n",
    "\n",
    "root.resizable(width = False, height = False)\n",
    "root.mainloop()"
   ]
  },
  {
   "cell_type": "code",
   "execution_count": null,
   "metadata": {},
   "outputs": [],
   "source": []
  }
 ],
 "metadata": {
  "kernelspec": {
   "display_name": "Python 3",
   "language": "python",
   "name": "python3"
  },
  "language_info": {
   "codemirror_mode": {
    "name": "ipython",
    "version": 3
   },
   "file_extension": ".py",
   "mimetype": "text/x-python",
   "name": "python",
   "nbconvert_exporter": "python",
   "pygments_lexer": "ipython3",
   "version": "3.6.4"
  }
 },
 "nbformat": 4,
 "nbformat_minor": 2
}
